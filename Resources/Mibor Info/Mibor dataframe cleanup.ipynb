{
 "cells": [
  {
   "cell_type": "code",
   "execution_count": 15,
   "metadata": {},
   "outputs": [],
   "source": [
    "import pandas as pd\n",
    "\n",
    "johnson19_a= pd.read_csv(\"Listing-johnson-06-01-2019-12-31-2019.csv\")\n",
    "johnson20_a= pd.read_csv(\"Listing-johnson-06-01-2020-12-31-2020.csv\")\n",
    "marion19_a= pd.read_csv(\"Listing-marion-06-01-2019-08-31-2019.csv\")\n",
    "marion20_a= pd.read_csv(\"Listing-marion-06-01-2020-08-31-2020.csv\")\n",
    "marion19_b = pd.read_csv(\"Listing-marion-09-01-2019-11-30-2019.csv\")\n",
    "marion20_b= pd.read_csv(\"Listing-marion-09-01-2020-11-30-2020.csv\")\n",
    "marion19_c= pd.read_csv(\"Listing-marion-11-01-2019-12-31-2019.csv\")\n",
    "marion20_c= pd.read_csv(\"Listing-marion-11-01-2020-12-31-2020.csv\")\n",
    "johnson19a= pd.read_csv(\"single-line-johnson-06-01-2019-12-31-2019.csv\")\n",
    "johnson20a= pd.read_csv(\"single-line-johnson-06-01-2020-12-31-2020.csv\")\n",
    "marion19a= pd.read_csv(\"single-line-marion-06-01-2019-08-31-2019.csv\")\n",
    "marion20a= pd.read_csv(\"single-line-marion-06-01-2020-08-31-2020.csv\")\n",
    "marion19b= pd.read_csv(\"single-line-marion-09-01-2019-11-30-2019.csv\")\n",
    "marion20b= pd.read_csv(\"single-line-marion-09-01-2020-11-30-2020.csv\")\n",
    "marion19c= pd.read_csv(\"single-line-marion-11-01-2019-12-31-2019.csv\")\n",
    "marion20c= pd.read_csv(\"single-line-marion-11-01-2020-12-31-2020.csv\")\n",
    "\n",
    "b20a_df= pd.read_csv(\"Listing-boone-06-01-2020-12-31-2020.csv\")\n",
    "b20b_df= pd.read_csv(\"single-line-boone-06-01-2020-12-31-2020.csv\")\n",
    "\n",
    "b19a_df= pd.read_csv(\"Listing-boone-06-01-2019-12-31-2019.csv\")\n",
    "b19b_df= pd.read_csv(\"single-line-boone-06-01-2019-12-31-2019.csv\")\n",
    "\n",
    "ha19a_df= pd.read_csv(\"Listing-hamilton-06-01-2019-12-31-2019.csv\")\n",
    "ha19b_df= pd.read_csv(\"single-line-hamilton-06-01-2019-12-31-2019.csv\")\n",
    "\n",
    "ha20a_df= pd.read_csv(\"Listing-hamilton-06-01-2020-07-31-2020.csv\")\n",
    "ha20b_df= pd.read_csv(\"Listing-hamilton-08-01-2020-12-31-2020.csv\")\n",
    "ha20c_df= pd.read_csv(\"single-line-hamilton- 06-01-2020-07-31-2020.csv\")\n",
    "ha20d_df= pd.read_csv(\"single-line-hamilton-08-01-2020-12-31-2020.csv\")\n",
    "\n",
    "hk19a_df= pd.read_csv(\"Listing-hancock-06-01-2019-12-31-2019.csv\")\n",
    "hk19b_df= pd.read_csv(\"single-line-hancock-06-01-2019-12-31-2019.csv\")\n",
    "\n",
    "hk20a_df= pd.read_csv(\"Listing-hancock-06-01-2020-12-31-2020.csv\")\n",
    "hk20b_df= pd.read_csv(\"single-line-hancock-06-01-2020-12-31-2020.csv\")\n",
    "\n",
    "he19a_df= pd.read_csv(\"Listing-hendricks-06-01-2019-12-31-2019.csv\")\n",
    "he19b_df= pd.read_csv(\"single-line-hendricks-06-01-2019-12-31-2019.csv\")\n",
    "\n",
    "he20a_df= pd.read_csv(\"Listing-hendricks-06-01-2020-12-31-2020.csv\")\n",
    "he20b_df= pd.read_csv(\"single-line-hendricks-06-01-2020-12-31-2020.csv\")\n",
    "\n",
    "boone_19 = pd.merge(b19a_df, b19b_df, left_on='MLSNumber', right_on='BLC # ')\n",
    "boone_20 = pd.merge(b20a_df, b20b_df, left_on='MLSNumber', right_on='BLC # ')\n",
    "\n",
    "hamilton_19 = pd.merge(ha19a_df, ha19b_df, left_on='MLSNumber', right_on='BLC # ')\n",
    "\n",
    "hamilton_201 = pd.concat([ha20a_df, ha20b_df])\n",
    "hamilton_202 = pd.concat([ha20c_df, ha20d_df])\n",
    "\n",
    "hamilton_20 = pd.merge(hamilton_201, hamilton_202, left_on='MLSNumber', right_on='BLC # ')\n",
    "\n",
    "hancock_19 = pd.merge(hk19a_df, hk19b_df, left_on='MLSNumber', right_on='BLC # ')\n",
    "hancock_20 = pd.merge(hk20a_df, hk20b_df, left_on='MLSNumber', right_on='BLC # ')\n",
    "\n",
    "hendricks_19 = pd.merge(he19a_df, he19b_df, left_on='MLSNumber', right_on='BLC # ')\n",
    "hendricks_20 = pd.merge(he20a_df, he20b_df, left_on='MLSNumber', right_on='BLC # ')\n",
    "\n",
    "marion20_single_line = pd.concat([marion20a, marion20b, marion20c])\n",
    "marion19_single_line = pd.concat([marion19a, marion19b, marion19c])\n",
    "marion19_listing = pd.concat([marion19_a, marion19_b, marion19_c])\n",
    "marion20_listing = pd.concat([marion20_a, marion20_b, marion20_c])\n",
    "\n",
    "marion_19 = pd.merge(marion19_listing, marion19_single_line, left_on = 'MLSNumber', right_on = 'BLC # ')\n",
    "marion_20 = pd.merge(marion20_listing, marion20_single_line, left_on = 'MLSNumber', right_on = 'BLC # ')\n",
    "\n",
    "johnson_19 = pd.merge(johnson19_a, johnson19a, left_on = 'MLSNumber', right_on = 'BLC # ')\n",
    "johnson_20 = pd.merge(johnson20_a, johnson20a, left_on = 'MLSNumber', right_on = 'BLC # ')\n",
    "\n",
    "johnson_19['County'] = \"Johnson\"\n",
    "johnson_20['County'] = \"Johnson\"\n",
    "\n",
    "marion_19['County'] = \"Marion\"\n",
    "marion_20['County'] = \"Marion\"\n",
    "\n",
    "hendricks_19['County'] = \"Hendricks\"\n",
    "hendricks_20['County'] = \"Hendricks\"\n",
    "\n",
    "hamilton_19['County'] = \"Hamilton\"\n",
    "hamilton_20['County'] = \"Hamilton\"\n",
    "\n",
    "hancock_19['County'] = \"Hancock\"\n",
    "hancock_20['County'] = \"Hancock\"\n",
    "\n",
    "boone_19['County'] = \"Boone\"\n",
    "boone_20['County'] = \"Boone\"\n"
   ]
  },
  {
   "cell_type": "code",
   "execution_count": 16,
   "metadata": {},
   "outputs": [],
   "source": [
    "rs_19_temp = pd.concat([johnson_19, marion_19, hendricks_19, hancock_19, hamilton_19, boone_19])\n",
    "rs_20_temp = pd.concat([johnson_20, marion_20, hendricks_20, hancock_20, hamilton_20, boone_20])"
   ]
  },
  {
   "cell_type": "code",
   "execution_count": 17,
   "metadata": {},
   "outputs": [
    {
     "data": {
      "text/plain": [
       "MLSNumber               int64\n",
       "ListPrice               int64\n",
       "ListingContractDate    object\n",
       "County                 object\n",
       "dtype: object"
      ]
     },
     "execution_count": 17,
     "metadata": {},
     "output_type": "execute_result"
    }
   ],
   "source": [
    "\n",
    "\n",
    "rs_19 = rs_19_temp[['MLSNumber', 'ListPrice', 'ListingContractDate', 'County']].copy()\n",
    "rs_20 = rs_20_temp[['MLSNumber', 'ListPrice', 'ListingContractDate', 'County']].copy()\n",
    "\n",
    "rs_19.dtypes"
   ]
  },
  {
   "cell_type": "code",
   "execution_count": 18,
   "metadata": {},
   "outputs": [],
   "source": [
    "rs_19['YEAR'] = pd.DatetimeIndex(rs_19['ListingContractDate']).year\n",
    "rs_19['MONTH'] = pd.DatetimeIndex(rs_19['ListingContractDate']).month\n",
    "rs_19['MONTH_NAME'] = pd.DatetimeIndex(rs_19['ListingContractDate']).month_name(locale = 'English')\n",
    "\n",
    "rs_19 = rs_19[(rs_19['YEAR']==2019) & (rs_19['MONTH']>5)]"
   ]
  },
  {
   "cell_type": "code",
   "execution_count": 19,
   "metadata": {},
   "outputs": [],
   "source": [
    "rs_20['YEAR'] = pd.DatetimeIndex(rs_20['ListingContractDate']).year\n",
    "rs_20['MONTH'] = pd.DatetimeIndex(rs_20['ListingContractDate']).month\n",
    "rs_20['MONTH_NAME'] = pd.DatetimeIndex(rs_20['ListingContractDate']).month_name(locale = 'English')\n",
    "\n",
    "rs_20 = rs_20[(rs_20['YEAR']==2020) & (rs_20['MONTH']>5)]"
   ]
  },
  {
   "cell_type": "code",
   "execution_count": 21,
   "metadata": {},
   "outputs": [],
   "source": [
    "\n",
    "rs_19.to_csv(\"../real_estate19.csv\", index=False)\n",
    "rs_20.to_csv(\"../real_estate20.csv\", index=False)"
   ]
  },
  {
   "cell_type": "code",
   "execution_count": null,
   "metadata": {},
   "outputs": [],
   "source": []
  }
 ],
 "metadata": {
  "kernelspec": {
   "display_name": "Python [conda env:PythonData]",
   "language": "python",
   "name": "conda-env-PythonData-py"
  },
  "language_info": {
   "codemirror_mode": {
    "name": "ipython",
    "version": 3
   },
   "file_extension": ".py",
   "mimetype": "text/x-python",
   "name": "python",
   "nbconvert_exporter": "python",
   "pygments_lexer": "ipython3",
   "version": "3.6.10"
  }
 },
 "nbformat": 4,
 "nbformat_minor": 4
}
