{
 "cells": [
  {
   "cell_type": "code",
   "execution_count": null,
   "metadata": {},
   "outputs": [],
   "source": [
    "import pandas as pd\n",
    "\n",
    "listing_boone_2020_df= pd.read_csv(\"Listing-boone-06-01-2020-12-31-2020.csv\")\n",
    "_df= pd.read_csv(\"Listing-boone-06-01-2019-12-31-2019.csv\")\n",
    "_df= pd.read_csv(\"Listing-hamilton-06-01-2019-12-31-2019.csv\")\n",
    "_df= pd.read_csv(\"Listing-hamilton-06-01-2020-07-31-2020.csv\")\n",
    "_df= pd.read_csv(\"Listing-hamilton-08-01-2020-12-31-2020.csv\")\n",
    "_df= pd.read_csv(\"Listing-hancock-06-01-2019-12-31-2019.csv\")\n",
    "_df= pd.read_csv(\"Listing-hancock-06-01-2020-12-31-2020.csv\")\n",
    "_df= pd.read_csv(\"Listing-hendricks-06-01-2019-12-31-2019.csv\")\n",
    "_df= pd.read_csv(\"Listing-hendricks-06-01-2020-12-31-2020.csv\")\n",
    "_df= pd.read_csv(\"Listing-johnson-06-01-2019-12-31-2019.csv\")\n",
    "_df= pd.read_csv(\"Listing-johnson-06-01-2020-12-31-2020.csv\")\n",
    "_df= pd.read_csv(\"Listing-marion-06-01-2019-08-31-2019.csv\")\n",
    "_df= pd.read_csv(\"Listing-marion-06-01-2020-08-31-2020.csv\")\n",
    "_df= pd.read_csv(\"Listing-marion-09-01-2019-11-30-2019.csv\")\n",
    "_df= pd.read_csv(\"Listing-marion-09-01-2020-11-30-2020.csv\")\n",
    "_df= pd.read_csv(\"Listing-marion-11-01-2019-12-31-2019.csv\")\n",
    "_df= pd.read_csv(\"Listing-marion-11-01-2020-12-31-2020.csv\")\n",
    "_df= pd.read_csv(\"single-line-boone-06-01-2019-12-31-2019.csv\")\n",
    "_df= pd.read_csv(\"single-line-boone-06-01-2020-12-31-2020.csv\")\n",
    "_df= pd.read_csv(\"single-line-hamilton- 06-01-2020-07-31-2020.csv\")\n",
    "_df= pd.read_csv(\"single-line-hamilton-06-01-2019-12-31-2019.csv\")\n",
    "_df= pd.read_csv(\"single-line-hamilton-08-01-2020-12-31-2020.csv\")\n",
    "_df= pd.read_csv(\"single-line-hancock-06-01-2019-12-31-2019.csv\")\n",
    "_df= pd.read_csv(\"single-line-hancock-06-01-2020-12-31-2020.csv\")\n",
    "_df= pd.read_csv(\"single-line-hendricks-06-01-2019-12-31-2019.csv\")\n",
    "_df= pd.read_csv(\"single-line-hendricks-06-01-2020-12-31-2020.csv\")\n",
    "_df= pd.read_csv(\"single-line-johnson-06-01-2019-12-31-2019.csv\")\n",
    "_df= pd.read_csv(\"single-line-johnson-06-01-2020-12-31-2020.csv\")\n",
    "_df= pd.read_csv(\"single-line-marion-06-01-2019-08-31-2019.csv\")\n",
    "_df= pd.read_csv(\"single-line-marion-06-01-2020-08-31-2020.csv\")\n",
    "_df= pd.read_csv(\"single-line-marion-09-01-2019-11-30-2019.csv\")\n",
    "_df= pd.read_csv(\"single-line-marion-09-01-2020-11-30-2020.csv\")\n",
    "_df= pd.read_csv(\"single-line-marion-11-01-2019-12-31-2019.csv\")\n",
    "_df= pd.read_csv(\"single-line-marion-11-01-2020-12-31-2020.csv\")\n"
   ]
  }
 ],
 "metadata": {
  "kernelspec": {
   "display_name": "Python [conda env:PythonData]",
   "language": "python",
   "name": "conda-env-PythonData-py"
  },
  "language_info": {
   "codemirror_mode": {
    "name": "ipython",
    "version": 3
   },
   "file_extension": ".py",
   "mimetype": "text/x-python",
   "name": "python",
   "nbconvert_exporter": "python",
   "pygments_lexer": "ipython3",
   "version": "3.6.10"
  }
 },
 "nbformat": 4,
 "nbformat_minor": 4
}
